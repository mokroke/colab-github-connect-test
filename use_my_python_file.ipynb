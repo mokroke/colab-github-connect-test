{
 "cells": [
  {
   "cell_type": "markdown",
   "metadata": {},
   "source": [
    "# Google Driveに保存したssh設定用のpythonファイルを利用して、ssh接続を行う"
   ]
  },
  {
   "cell_type": "markdown",
   "metadata": {},
   "source": [
    "下のボタンを押すと、Google Colaboratory にアクセスできます。\n",
    "\n",
    "[![Open In Colab](https://colab.research.google.com/assets/colab-badge.svg)](https://colab.research.google.com/github/mokroke/colab-github-connect-test/blob/main/use_my_python_file.ipynb)\n"
   ]
  },
  {
   "cell_type": "markdown",
   "metadata": {},
   "source": [
    "## CoraboratoryでGitHub上にあげた自作モジュールを使えるようにする"
   ]
  },
  {
   "cell_type": "code",
   "execution_count": null,
   "metadata": {},
   "outputs": [],
   "source": [
    "# colaboratoryとgoogle driveを接続\n",
    "from google.colab import drive\n",
    "drive.mount('/content/drive')"
   ]
  },
  {
   "cell_type": "code",
   "execution_count": null,
   "metadata": {},
   "outputs": [],
   "source": [
    "# google driveに存在するsshの設定用ファイルをコピー\n",
    "!cp /content/drive/MyDrive/colab_ssh_settings/colab_github_setting.py /content/\n",
    "\n",
    "# 「/content/drive/MyDrive/colab_ssh_settings/colab_github_setting.py」が、事前に用意しておいたgoogle drive上のファイルのパス"
   ]
  },
  {
   "cell_type": "code",
   "execution_count": null,
   "metadata": {},
   "outputs": [],
   "source": [
    "import colab_github_setting\n",
    "colab_github_setting.github_auth(persistent_key=True)"
   ]
  },
  {
   "cell_type": "code",
   "execution_count": null,
   "metadata": {},
   "outputs": [],
   "source": [
    "# リポジトリをクローン\n",
    "!git clone git@github.com:mokroke/colab-github-connect-test.git"
   ]
  },
  {
   "cell_type": "code",
   "execution_count": null,
   "metadata": {},
   "outputs": [],
   "source": [
    "# 必要なライブラリをインポート\n",
    "import os\n",
    "\n",
    "# カレントディレクトリをリポジトリ内に変更\n",
    "os.chdir(\"colab-github-connect-test/\")"
   ]
  },
  {
   "cell_type": "code",
   "execution_count": null,
   "metadata": {},
   "outputs": [],
   "source": [
    "# 自作モジュールをimport \n",
    "from my_module_test import my_function\n",
    "\n",
    "# 「成功！自作モジュールの関数が動いています！」と表示されたら成功です。\n",
    "my_function.func1()"
   ]
  }
 ],
 "metadata": {
  "kernelspec": {
   "display_name": ".venv",
   "language": "python",
   "name": "python3"
  },
  "language_info": {
   "codemirror_mode": {
    "name": "ipython",
    "version": 3
   },
   "file_extension": ".py",
   "mimetype": "text/x-python",
   "name": "python",
   "nbconvert_exporter": "python",
   "pygments_lexer": "ipython3",
   "version": "3.12.1"
  }
 },
 "nbformat": 4,
 "nbformat_minor": 2
}
