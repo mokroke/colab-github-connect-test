{
 "cells": [
  {
   "cell_type": "markdown",
   "metadata": {},
   "source": [
    "下のボタンを押すと、Google Colaboratory にアクセスできます。\n",
    "\n",
    "[![Open In Colab](https://colab.research.google.com/assets/colab-badge.svg)](https://colab.research.google.com/github/mokroke/colab-github-connect-test/blob/main/connect_test.ipynb)\n"
   ]
  },
  {
   "cell_type": "markdown",
   "metadata": {},
   "source": [
    "### （補足）GitHubにあるipynbファイルをColabで開くリンクを埋め込んだバッチを作成"
   ]
  },
  {
   "cell_type": "code",
   "execution_count": null,
   "metadata": {},
   "outputs": [
    {
     "name": "stdout",
     "output_type": "stream",
     "text": [
      "指定したipynbファイルをColabで開くバッチ↓ \n",
      " [![Open In Colab](https://colab.research.google.com/assets/colab-badge.svg)](https://colab.research.google.com/github/mokroke/colab-github-connect-test/blob/feature/connect_test.ipynb)\n"
     ]
    }
   ],
   "source": [
    "#GitHubにあるipynbファイルをColabで開くリンクを作成\n",
    "\n",
    "# 必要事項の入力\n",
    "user_name = \"mokroke\"#@param {type:\"string\"}\n",
    "repository_name = \"colab-github-connect-test\"#@param {type:\"string\"}\n",
    "branch_name = \"main\"#@param {type:\"string\"}\n",
    "relative_path = \"connect_test.ipynb\"#@param {type:\"string\"}\n",
    "\n",
    "to_colab_link = f\"https://colab.research.google.com/github/{user_name}/{repository_name}/blob/{branch_name}/{relative_path}\"\n",
    "md_badge_to_colab_link = f\"[![Open In Colab](https://colab.research.google.com/assets/colab-badge.svg)]({to_colab_link})\"\n",
    "print(\"以下の文字列をそのままコピペしてください↓ \\n\",md_badge_to_colab_link)"
   ]
  },
  {
   "cell_type": "markdown",
   "metadata": {},
   "source": [
    "## CoraboratoryでGitHub上にあげた自作モジュールを使えるようにする"
   ]
  },
  {
   "cell_type": "code",
   "execution_count": null,
   "metadata": {},
   "outputs": [],
   "source": [
    "from google.colab import userdata\n",
    "TOKEN = userdata.get('FINE_GRAINED')  # GitHubトークンを取得\n",
    "\n",
    "#HTTPSのURLにTOKENを追加\n",
    "repository_url = \"https://github.com/mokroke/colab-github-connect-test.git\"#@param {type:\"string\"}\n",
    "\n",
    "# cloneする\n",
    "!git clone https://{TOKEN}@{repository_url.replace(\"https://\",\"\")}\n"
   ]
  },
  {
   "cell_type": "code",
   "execution_count": null,
   "metadata": {},
   "outputs": [],
   "source": [
    "# 必要なライブラリをインポート\n",
    "import os\n",
    "\n",
    "# カレントディレクトリをリポジトリ内に変更\n",
    "os.chdir(\"colab-github-connect-test/\")"
   ]
  },
  {
   "cell_type": "code",
   "execution_count": null,
   "metadata": {},
   "outputs": [],
   "source": [
    "# 自作モジュールをimport \n",
    "from my_module_test import my_function\n",
    "\n",
    "# 「成功！自作モジュールの関数が動いています！」と表示されたら成功です。\n",
    "my_function.func1()"
   ]
  }
 ],
 "metadata": {
  "kernelspec": {
   "display_name": ".venv",
   "language": "python",
   "name": "python3"
  },
  "language_info": {
   "codemirror_mode": {
    "name": "ipython",
    "version": 3
   },
   "file_extension": ".py",
   "mimetype": "text/x-python",
   "name": "python",
   "nbconvert_exporter": "python",
   "pygments_lexer": "ipython3",
   "version": "3.12.1"
  }
 },
 "nbformat": 4,
 "nbformat_minor": 2
}
